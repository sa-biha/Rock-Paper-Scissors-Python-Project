{
  "nbformat": 4,
  "nbformat_minor": 0,
  "metadata": {
    "colab": {
      "provenance": [],
      "authorship_tag": "ABX9TyPGd49GDFN1EN2eFPA2+e4P",
      "include_colab_link": true
    },
    "kernelspec": {
      "name": "python3",
      "display_name": "Python 3"
    },
    "language_info": {
      "name": "python"
    }
  },
  "cells": [
    {
      "cell_type": "markdown",
      "metadata": {
        "id": "view-in-github",
        "colab_type": "text"
      },
      "source": [
        "<a href=\"https://colab.research.google.com/github/sa-biha/Rock-Paper-Scissors-Python-Project/blob/main/Rock%2CPaper%2CScissors_Python_Project.ipynb\" target=\"_parent\"><img src=\"https://colab.research.google.com/assets/colab-badge.svg\" alt=\"Open In Colab\"/></a>"
      ]
    },
    {
      "cell_type": "markdown",
      "source": [],
      "metadata": {
        "id": "BNqJfaLISU9W"
      }
    },
    {
      "cell_type": "markdown",
      "source": [
        "# ***Rock,Paper,Scissors Python Project***"
      ],
      "metadata": {
        "id": "BnuG-YnDSXEr"
      }
    },
    {
      "cell_type": "markdown",
      "source": [
        "# ***Cell 1: Import necessary libraries***"
      ],
      "metadata": {
        "id": "pLHAfz_XTRam"
      }
    },
    {
      "cell_type": "code",
      "source": [
        "import random"
      ],
      "metadata": {
        "id": "nR8gzBf3TVBk"
      },
      "execution_count": null,
      "outputs": []
    },
    {
      "cell_type": "markdown",
      "source": [
        "# ***Cell 2: Display Instructions***"
      ],
      "metadata": {
        "id": "a4KQ8Y2MTaWx"
      }
    },
    {
      "cell_type": "code",
      "source": [
        "print(\"Welcome to the Rock, Paper, Scissors Game!\")\n",
        "print(\"The rules are simple:\")\n",
        "print(\"1. Rock beats Scissors\")\n",
        "print(\"2. Scissors beats Paper\")\n",
        "print(\"3. Paper beats Rock\")\n",
        "print(\"Let's play!\")"
      ],
      "metadata": {
        "colab": {
          "base_uri": "https://localhost:8080/"
        },
        "id": "JFGx8cYSTgqQ",
        "outputId": "8634da62-b191-4559-e2c4-50e3d298fa1c"
      },
      "execution_count": null,
      "outputs": [
        {
          "output_type": "stream",
          "name": "stdout",
          "text": [
            "Welcome to the Rock, Paper, Scissors Game!\n",
            "The rules are simple:\n",
            "1. Rock beats Scissors\n",
            "2. Scissors beats Paper\n",
            "3. Paper beats Rock\n",
            "Let's play!\n"
          ]
        }
      ]
    },
    {
      "cell_type": "markdown",
      "source": [
        "# ***Cell 3: Main Game Logic***"
      ],
      "metadata": {
        "id": "dpiM5iDGTmyn"
      }
    },
    {
      "cell_type": "code",
      "source": [
        "def play_game():\n",
        "    # Options for the game\n",
        "    options = ['rock', 'paper', 'scissors']\n",
        "\n",
        "    # User input\n",
        "    user_choice = input(\"Enter 'rock', 'paper', or 'scissors': \").lower()\n",
        "    while user_choice not in options:\n",
        "        print(\"Invalid input! Please choose 'rock', 'paper', or 'scissors'.\")\n",
        "        user_choice = input(\"Enter 'rock', 'paper', or 'scissors': \").lower()\n",
        "\n",
        "    # Computer choice\n",
        "    computer_choice = random.choice(options)\n",
        "    print(f\"Computer chose: {computer_choice}\")\n",
        "\n",
        "    # Determine winner\n",
        "    if user_choice == computer_choice:\n",
        "        return \"It's a tie!\"\n",
        "    elif (user_choice == 'rock' and computer_choice == 'scissors') or \\\n",
        "         (user_choice == 'scissors' and computer_choice == 'paper') or \\\n",
        "         (user_choice == 'paper' and computer_choice == 'rock'):\n",
        "        return \"You win!\"\n",
        "    else:\n",
        "        return \"You lose!\""
      ],
      "metadata": {
        "id": "vqdFEAxuTsyc"
      },
      "execution_count": null,
      "outputs": []
    },
    {
      "cell_type": "markdown",
      "source": [
        "# ***Cell 4: Run the game***"
      ],
      "metadata": {
        "id": "Dm5TDXNcTyaX"
      }
    },
    {
      "cell_type": "code",
      "source": [
        "# Start the game\n",
        "result = play_game()\n",
        "print(result)"
      ],
      "metadata": {
        "colab": {
          "base_uri": "https://localhost:8080/"
        },
        "id": "9BZAhLMhT4Il",
        "outputId": "0b69f31d-a44f-4434-89c2-2fdf069319fa"
      },
      "execution_count": null,
      "outputs": [
        {
          "output_type": "stream",
          "name": "stdout",
          "text": [
            "Enter 'rock', 'paper', or 'scissors': rock\n",
            "Computer chose: rock\n",
            "It's a tie!\n"
          ]
        }
      ]
    }
  ]
}